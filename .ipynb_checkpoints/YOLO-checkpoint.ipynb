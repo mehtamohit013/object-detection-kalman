{
 "cells": [
  {
   "cell_type": "code",
   "execution_count": 16,
   "id": "fd1d82a7",
   "metadata": {},
   "outputs": [],
   "source": [
    "import torch\n",
    "import cv2\n",
    "import numpy as np\n",
    "\n",
    "import jax \n",
    "import jax.numpy as jnp\n",
    "\n",
    "\n",
    "from matplotlib import pyplot as plt\n",
    "%matplotlib inline\n",
    "\n",
    "device = torch.device('cpu')"
   ]
  },
  {
   "cell_type": "markdown",
   "id": "2e25c635",
   "metadata": {},
   "source": [
    "# Input\n",
    "Reading the video and converting it into multiple images"
   ]
  },
  {
   "cell_type": "code",
   "execution_count": 4,
   "id": "61488eb4",
   "metadata": {},
   "outputs": [],
   "source": [
    "def convert_video_to_frame(path:str):\n",
    "    cap = cv2.VideoCapture(path)\n",
    "    \n",
    "    img = []\n",
    "    while cap.isOpened():\n",
    "        ret,frame = cap.read()\n",
    "        if ret == True:\n",
    "#             OpenCV converting the image from BGR to RGB\n",
    "            img.append(frame[..., ::-1])\n",
    "        else:\n",
    "            break\n",
    "    \n",
    "    cap.release()\n",
    "    return img"
   ]
  },
  {
   "cell_type": "code",
   "execution_count": 5,
   "id": "0640a55a",
   "metadata": {},
   "outputs": [
    {
     "name": "stdout",
     "output_type": "stream",
     "text": [
      "(540, 960, 3) (360, 640, 3)\n"
     ]
    }
   ],
   "source": [
    "img_sin = convert_video_to_frame('./single_ball.mp4')\n",
    "img_multi = convert_video_to_frame('./multi_ball.avi')\n",
    "\n",
    "print(img_sin[0].shape,img_multi[0].shape)"
   ]
  },
  {
   "cell_type": "code",
   "execution_count": 6,
   "id": "01d1ec6e",
   "metadata": {},
   "outputs": [],
   "source": [
    "def convert_torch(img,device):\n",
    "    return torch.tensor(np.array(img)).permute(0,3,1,2).to(device)"
   ]
  },
  {
   "cell_type": "code",
   "execution_count": 7,
   "id": "9c5bdaa7",
   "metadata": {},
   "outputs": [],
   "source": [
    "img_multi_torch = convert_torch(img_multi,device)\n",
    "img_sin_torch = convert_torch(img_sin,device)"
   ]
  },
  {
   "cell_type": "markdown",
   "id": "29be33bb",
   "metadata": {},
   "source": [
    "# Model\n",
    "Loading YOLOv5 medium model"
   ]
  },
  {
   "cell_type": "code",
   "execution_count": 8,
   "id": "73e2100e",
   "metadata": {
    "scrolled": true
   },
   "outputs": [
    {
     "name": "stderr",
     "output_type": "stream",
     "text": [
      "Using cache found in /home/mohit/.cache/torch/hub/ultralytics_yolov5_master\n"
     ]
    }
   ],
   "source": [
    "# Model\n",
    "model = torch.hub.load('ultralytics/yolov5', 'yolov5l', pretrained=True, _verbose=False)\n",
    "model = model.to(device)"
   ]
  },
  {
   "cell_type": "code",
   "execution_count": 9,
   "id": "06ddd013",
   "metadata": {},
   "outputs": [],
   "source": [
    "results_torch = model(img_sin_torch)\n",
    "results_cv = model(img_sin)"
   ]
  },
  {
   "cell_type": "code",
   "execution_count": 10,
   "id": "a54ea2b3",
   "metadata": {},
   "outputs": [
    {
     "name": "stdout",
     "output_type": "stream",
     "text": [
      "<class 'pandas.core.frame.DataFrame'>\n",
      "RangeIndex: 3 entries, 0 to 2\n",
      "Data columns (total 7 columns):\n",
      " #   Column      Non-Null Count  Dtype  \n",
      "---  ------      --------------  -----  \n",
      " 0   xmin        3 non-null      float64\n",
      " 1   ymin        3 non-null      float64\n",
      " 2   xmax        3 non-null      float64\n",
      " 3   ymax        3 non-null      float64\n",
      " 4   confidence  3 non-null      float64\n",
      " 5   class       3 non-null      int64  \n",
      " 6   name        3 non-null      object \n",
      "dtypes: float64(5), int64(1), object(1)\n",
      "memory usage: 296.0+ bytes\n"
     ]
    }
   ],
   "source": [
    "results_cv.pandas().xyxy[0].info()"
   ]
  },
  {
   "cell_type": "code",
   "execution_count": 11,
   "id": "5eb0bd58",
   "metadata": {},
   "outputs": [],
   "source": [
    "results_pd = results_cv.pandas().xyxy"
   ]
  },
  {
   "cell_type": "code",
   "execution_count": 25,
   "id": "77e3582e",
   "metadata": {
    "scrolled": true
   },
   "outputs": [
    {
     "name": "stdout",
     "output_type": "stream",
     "text": [
      "0\n",
      "1\n",
      "2\n",
      "12\n",
      "13\n",
      "14\n",
      "15\n",
      "18\n",
      "19\n",
      "34\n",
      "35\n",
      "37\n",
      "38\n",
      "39\n",
      "46\n",
      "47\n",
      "48\n",
      "49\n",
      "50\n"
     ]
    }
   ],
   "source": [
    "for i in range(len(results_pd)):\n",
    "    if 32 in results_pd[i]['class'].values and 49 in results_pd[i]['class'].values :\n",
    "        print(i)"
   ]
  },
  {
   "cell_type": "raw",
   "id": "156fdd37",
   "metadata": {},
   "source": []
  },
  {
   "cell_type": "code",
   "execution_count": 51,
   "id": "ae210ca3",
   "metadata": {
    "scrolled": false
   },
   "outputs": [
    {
     "name": "stdout",
     "output_type": "stream",
     "text": [
      "The class with maximum prob is 32\n",
      "The class with maximum prob is 32\n",
      "The class with maximum prob is 74\n",
      "The class with maximum prob is 32\n",
      "The class with maximum prob is 9\n",
      "The class with maximum prob is 74\n",
      "The class with maximum prob is 32\n",
      "The class with maximum prob is 32\n",
      "The class with maximum prob is 32\n",
      "The class with maximum prob is 32\n",
      "The class with maximum prob is 32\n"
     ]
    }
   ],
   "source": [
    "a = results_torch[0]\n",
    "\n",
    "n = a.shape[0]\n",
    "\n",
    "for i in range(n):\n",
    "#     print(torch.max(a[i][5:]))\n",
    "    if a[i][4]>0.8 and torch.max(a[i][5:])>=1:\n",
    "        print(f'The class with maximum prob is {torch.argmax(a[i][5:])}')"
   ]
  },
  {
   "cell_type": "code",
   "execution_count": 47,
   "id": "e727b03c",
   "metadata": {},
   "outputs": [
    {
     "data": {
      "text/plain": [
       "tensor(1.)"
      ]
     },
     "execution_count": 47,
     "metadata": {},
     "output_type": "execute_result"
    }
   ],
   "source": [
    "torch.max(a[:,5:])"
   ]
  },
  {
   "cell_type": "code",
   "execution_count": 33,
   "id": "42463fd3",
   "metadata": {},
   "outputs": [
    {
     "data": {
      "text/plain": [
       "tensor(2)"
      ]
     },
     "execution_count": 33,
     "metadata": {},
     "output_type": "execute_result"
    }
   ],
   "source": [
    "a = torch.tensor([12,23,36,4,65])\n",
    "torch.argmax(a[2:])"
   ]
  },
  {
   "cell_type": "code",
   "execution_count": 34,
   "id": "94d042c4",
   "metadata": {},
   "outputs": [
    {
     "data": {
      "text/plain": [
       "tensor([36,  4, 65])"
      ]
     },
     "execution_count": 34,
     "metadata": {},
     "output_type": "execute_result"
    }
   ],
   "source": [
    "a[2:]"
   ]
  },
  {
   "cell_type": "code",
   "execution_count": 32,
   "id": "e177d19a",
   "metadata": {},
   "outputs": [
    {
     "data": {
      "text/html": [
       "<div>\n",
       "<style scoped>\n",
       "    .dataframe tbody tr th:only-of-type {\n",
       "        vertical-align: middle;\n",
       "    }\n",
       "\n",
       "    .dataframe tbody tr th {\n",
       "        vertical-align: top;\n",
       "    }\n",
       "\n",
       "    .dataframe thead th {\n",
       "        text-align: right;\n",
       "    }\n",
       "</style>\n",
       "<table border=\"1\" class=\"dataframe\">\n",
       "  <thead>\n",
       "    <tr style=\"text-align: right;\">\n",
       "      <th></th>\n",
       "      <th>xmin</th>\n",
       "      <th>ymin</th>\n",
       "      <th>xmax</th>\n",
       "      <th>ymax</th>\n",
       "      <th>confidence</th>\n",
       "      <th>class</th>\n",
       "      <th>name</th>\n",
       "    </tr>\n",
       "  </thead>\n",
       "  <tbody>\n",
       "    <tr>\n",
       "      <th>0</th>\n",
       "      <td>890.533081</td>\n",
       "      <td>153.080200</td>\n",
       "      <td>959.659607</td>\n",
       "      <td>233.361832</td>\n",
       "      <td>0.711965</td>\n",
       "      <td>0</td>\n",
       "      <td>person</td>\n",
       "    </tr>\n",
       "    <tr>\n",
       "      <th>1</th>\n",
       "      <td>856.409973</td>\n",
       "      <td>231.083740</td>\n",
       "      <td>959.805969</td>\n",
       "      <td>318.779388</td>\n",
       "      <td>0.612472</td>\n",
       "      <td>49</td>\n",
       "      <td>orange</td>\n",
       "    </tr>\n",
       "    <tr>\n",
       "      <th>2</th>\n",
       "      <td>856.102478</td>\n",
       "      <td>231.109558</td>\n",
       "      <td>959.919800</td>\n",
       "      <td>318.639191</td>\n",
       "      <td>0.520424</td>\n",
       "      <td>32</td>\n",
       "      <td>sports ball</td>\n",
       "    </tr>\n",
       "  </tbody>\n",
       "</table>\n",
       "</div>"
      ],
      "text/plain": [
       "         xmin        ymin        xmax        ymax  confidence  class  \\\n",
       "0  890.533081  153.080200  959.659607  233.361832    0.711965      0   \n",
       "1  856.409973  231.083740  959.805969  318.779388    0.612472     49   \n",
       "2  856.102478  231.109558  959.919800  318.639191    0.520424     32   \n",
       "\n",
       "          name  \n",
       "0       person  \n",
       "1       orange  \n",
       "2  sports ball  "
      ]
     },
     "execution_count": 32,
     "metadata": {},
     "output_type": "execute_result"
    }
   ],
   "source": [
    "results_pd[0]"
   ]
  }
 ],
 "metadata": {
  "kernelspec": {
   "display_name": "Python 3 (ipykernel)",
   "language": "python",
   "name": "python3"
  },
  "language_info": {
   "codemirror_mode": {
    "name": "ipython",
    "version": 3
   },
   "file_extension": ".py",
   "mimetype": "text/x-python",
   "name": "python",
   "nbconvert_exporter": "python",
   "pygments_lexer": "ipython3",
   "version": "3.9.13"
  }
 },
 "nbformat": 4,
 "nbformat_minor": 5
}
